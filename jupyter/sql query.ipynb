{
 "cells": [
  {
   "cell_type": "code",
   "execution_count": 39,
   "metadata": {},
   "outputs": [],
   "source": [
    "import pandas as pd\n",
    "import json\n",
    "import sqlite3\n",
    "\n",
    "# Python SQL toolkit and Object Relational Mapper\n",
    "import sqlalchemy\n",
    "from sqlalchemy.ext.automap import automap_base\n",
    "from sqlalchemy.orm import Session\n",
    "from sqlalchemy import create_engine, inspect, func"
   ]
  },
  {
   "cell_type": "code",
   "execution_count": 40,
   "metadata": {},
   "outputs": [],
   "source": [
    "engine = sqlite3.connect('../db/stock.sqlite')"
   ]
  },
  {
   "cell_type": "code",
   "execution_count": 41,
   "metadata": {},
   "outputs": [],
   "source": [
    "cursor = engine.cursor()"
   ]
  },
  {
   "cell_type": "code",
   "execution_count": 52,
   "metadata": {},
   "outputs": [
    {
     "name": "stdout",
     "output_type": "stream",
     "text": [
      "[('APPLE INC',), ('AMER EXPRESS CO',), ('BOEING CO',), ('CATERPILLAR INC',), ('CISCO SYSTEMS',), ('CHEVRON CORP',), ('DISNEY WALT',), ('GENL ELECTRIC',), ('GOLDMAN SACHS',), ('HOME DEPOT',), ('INTL BUS MACH',), ('INTEL CORP',), ('JOHNSON & JOHNS',), ('JPMORGAN CHASE',), ('COCA COLA CO',), ('MCDONALDS CORP',), ('3M CO',), ('MERCK & CO INC',), ('MICROSOFT CORP',), ('NIKE INC-B',), ('PFIZER INC',), ('PROCTER & GAMBL',), ('TRAVELERS COS',), ('UNITEDHEALTH GP',), ('UTD TECHS CORP',), ('VISA INC-A',), ('VERIZON COMM',), ('WALMART INC',), ('EXXON MOBIL CRP',)]\n"
     ]
    }
   ],
   "source": [
    "rows = cursor.execute('SELECT Company FROM address_api_table').fetchall()\n",
    "\n",
    "print(rows)\n"
   ]
  },
  {
   "cell_type": "code",
   "execution_count": null,
   "metadata": {},
   "outputs": [],
   "source": []
  },
  {
   "cell_type": "code",
   "execution_count": null,
   "metadata": {},
   "outputs": [],
   "source": []
  },
  {
   "cell_type": "code",
   "execution_count": null,
   "metadata": {},
   "outputs": [],
   "source": []
  },
  {
   "cell_type": "code",
   "execution_count": null,
   "metadata": {},
   "outputs": [],
   "source": [
    "sqlite_conn.close()"
   ]
  }
 ],
 "metadata": {
  "kernelspec": {
   "display_name": "Python 3",
   "language": "python",
   "name": "python3"
  },
  "language_info": {
   "codemirror_mode": {
    "name": "ipython",
    "version": 3
   },
   "file_extension": ".py",
   "mimetype": "text/x-python",
   "name": "python",
   "nbconvert_exporter": "python",
   "pygments_lexer": "ipython3",
   "version": "3.7.0"
  }
 },
 "nbformat": 4,
 "nbformat_minor": 2
}
