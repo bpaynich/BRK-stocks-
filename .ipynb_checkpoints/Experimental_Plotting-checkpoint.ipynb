{
 "cells": [
  {
   "cell_type": "code",
   "execution_count": 1,
   "metadata": {},
   "outputs": [],
   "source": [
    "%matplotlib inline\n",
    "import matplotlib.pyplot as plt\n",
    "import pandas as pd\n",
    "import numpy as np"
   ]
  },
  {
   "cell_type": "code",
   "execution_count": 2,
   "metadata": {},
   "outputs": [
    {
     "data": {
      "text/html": [
       "<div>\n",
       "<style scoped>\n",
       "    .dataframe tbody tr th:only-of-type {\n",
       "        vertical-align: middle;\n",
       "    }\n",
       "\n",
       "    .dataframe tbody tr th {\n",
       "        vertical-align: top;\n",
       "    }\n",
       "\n",
       "    .dataframe thead th {\n",
       "        text-align: right;\n",
       "    }\n",
       "</style>\n",
       "<table border=\"1\" class=\"dataframe\">\n",
       "  <thead>\n",
       "    <tr style=\"text-align: right;\">\n",
       "      <th></th>\n",
       "      <th>Date</th>\n",
       "      <th>Open</th>\n",
       "      <th>Close</th>\n",
       "      <th>High</th>\n",
       "      <th>Low</th>\n",
       "      <th>Volume</th>\n",
       "    </tr>\n",
       "  </thead>\n",
       "  <tbody>\n",
       "    <tr>\n",
       "      <th>0</th>\n",
       "      <td>1983-11-21</td>\n",
       "      <td>7.91</td>\n",
       "      <td>7.91</td>\n",
       "      <td>7.97</td>\n",
       "      <td>7.39</td>\n",
       "      <td>564400</td>\n",
       "    </tr>\n",
       "    <tr>\n",
       "      <th>1</th>\n",
       "      <td>1983-11-22</td>\n",
       "      <td>7.88</td>\n",
       "      <td>7.88</td>\n",
       "      <td>8.02</td>\n",
       "      <td>7.87</td>\n",
       "      <td>299800</td>\n",
       "    </tr>\n",
       "    <tr>\n",
       "      <th>2</th>\n",
       "      <td>1983-11-23</td>\n",
       "      <td>7.84</td>\n",
       "      <td>7.84</td>\n",
       "      <td>7.91</td>\n",
       "      <td>7.80</td>\n",
       "      <td>129500</td>\n",
       "    </tr>\n",
       "    <tr>\n",
       "      <th>3</th>\n",
       "      <td>1983-11-25</td>\n",
       "      <td>7.76</td>\n",
       "      <td>7.76</td>\n",
       "      <td>7.85</td>\n",
       "      <td>7.76</td>\n",
       "      <td>199200</td>\n",
       "    </tr>\n",
       "    <tr>\n",
       "      <th>4</th>\n",
       "      <td>1983-11-28</td>\n",
       "      <td>7.54</td>\n",
       "      <td>7.54</td>\n",
       "      <td>7.71</td>\n",
       "      <td>7.52</td>\n",
       "      <td>266200</td>\n",
       "    </tr>\n",
       "  </tbody>\n",
       "</table>\n",
       "</div>"
      ],
      "text/plain": [
       "         Date  Open  Close  High   Low  Volume\n",
       "0  1983-11-21  7.91   7.91  7.97  7.39  564400\n",
       "1  1983-11-22  7.88   7.88  8.02  7.87  299800\n",
       "2  1983-11-23  7.84   7.84  7.91  7.80  129500\n",
       "3  1983-11-25  7.76   7.76  7.85  7.76  199200\n",
       "4  1983-11-28  7.54   7.54  7.71  7.52  266200"
      ]
     },
     "execution_count": 2,
     "metadata": {},
     "output_type": "execute_result"
    }
   ],
   "source": [
    "# File to load\n",
    "data_to_load = \"stock_csv/worldtradingdata-history-VZ.csv\"\n",
    "\n",
    "# Read CSV\n",
    "data = pd.read_csv(data_to_load)\n",
    "\n",
    "# Display preview\n",
    "data.head()"
   ]
  },
  {
   "cell_type": "code",
   "execution_count": 3,
   "metadata": {
    "scrolled": true
   },
   "outputs": [
    {
     "data": {
      "text/html": [
       "<div>\n",
       "<style scoped>\n",
       "    .dataframe tbody tr th:only-of-type {\n",
       "        vertical-align: middle;\n",
       "    }\n",
       "\n",
       "    .dataframe tbody tr th {\n",
       "        vertical-align: top;\n",
       "    }\n",
       "\n",
       "    .dataframe thead th {\n",
       "        text-align: right;\n",
       "    }\n",
       "</style>\n",
       "<table border=\"1\" class=\"dataframe\">\n",
       "  <thead>\n",
       "    <tr style=\"text-align: right;\">\n",
       "      <th></th>\n",
       "      <th>Date</th>\n",
       "      <th>Open</th>\n",
       "      <th>Close</th>\n",
       "      <th>High</th>\n",
       "      <th>Low</th>\n",
       "      <th>Volume</th>\n",
       "      <th>Ticker</th>\n",
       "    </tr>\n",
       "  </thead>\n",
       "  <tbody>\n",
       "    <tr>\n",
       "      <th>0</th>\n",
       "      <td>1983-11-21</td>\n",
       "      <td>7.91</td>\n",
       "      <td>7.91</td>\n",
       "      <td>7.97</td>\n",
       "      <td>7.39</td>\n",
       "      <td>564400</td>\n",
       "      <td>VZ</td>\n",
       "    </tr>\n",
       "    <tr>\n",
       "      <th>1</th>\n",
       "      <td>1983-11-22</td>\n",
       "      <td>7.88</td>\n",
       "      <td>7.88</td>\n",
       "      <td>8.02</td>\n",
       "      <td>7.87</td>\n",
       "      <td>299800</td>\n",
       "      <td>VZ</td>\n",
       "    </tr>\n",
       "    <tr>\n",
       "      <th>2</th>\n",
       "      <td>1983-11-23</td>\n",
       "      <td>7.84</td>\n",
       "      <td>7.84</td>\n",
       "      <td>7.91</td>\n",
       "      <td>7.80</td>\n",
       "      <td>129500</td>\n",
       "      <td>VZ</td>\n",
       "    </tr>\n",
       "    <tr>\n",
       "      <th>3</th>\n",
       "      <td>1983-11-25</td>\n",
       "      <td>7.76</td>\n",
       "      <td>7.76</td>\n",
       "      <td>7.85</td>\n",
       "      <td>7.76</td>\n",
       "      <td>199200</td>\n",
       "      <td>VZ</td>\n",
       "    </tr>\n",
       "    <tr>\n",
       "      <th>4</th>\n",
       "      <td>1983-11-28</td>\n",
       "      <td>7.54</td>\n",
       "      <td>7.54</td>\n",
       "      <td>7.71</td>\n",
       "      <td>7.52</td>\n",
       "      <td>266200</td>\n",
       "      <td>VZ</td>\n",
       "    </tr>\n",
       "  </tbody>\n",
       "</table>\n",
       "</div>"
      ],
      "text/plain": [
       "         Date  Open  Close  High   Low  Volume Ticker\n",
       "0  1983-11-21  7.91   7.91  7.97  7.39  564400     VZ\n",
       "1  1983-11-22  7.88   7.88  8.02  7.87  299800     VZ\n",
       "2  1983-11-23  7.84   7.84  7.91  7.80  129500     VZ\n",
       "3  1983-11-25  7.76   7.76  7.85  7.76  199200     VZ\n",
       "4  1983-11-28  7.54   7.54  7.71  7.52  266200     VZ"
      ]
     },
     "execution_count": 3,
     "metadata": {},
     "output_type": "execute_result"
    }
   ],
   "source": [
    "# Create new column with ticker name\n",
    "data[\"Ticker\"] = \"VZ\"\n",
    "\n",
    "data.head()"
   ]
  },
  {
   "cell_type": "code",
   "execution_count": null,
   "metadata": {},
   "outputs": [],
   "source": []
  },
  {
   "cell_type": "code",
   "execution_count": 4,
   "metadata": {},
   "outputs": [],
   "source": [
    "# Isolate date, open, and close columns from dataframe\n",
    "date = data[\"Date\"]\n",
    "open = data[\"Open\"]\n",
    "close = data[\"Close\"]\n",
    "\n",
    "# Create the daily change by subtracting the opening price from the closing price\n",
    "daily_change = close - open\n",
    "\n",
    "# # Create a dataframe that displays all this information\n",
    "# daily_change_df = pd.DataFrame({\n",
    "#     \"Date\": date,\n",
    "#     \"Daily Change\": daily_change\n",
    "# })\n",
    "# daily_change_df.head()"
   ]
  },
  {
   "cell_type": "code",
   "execution_count": 5,
   "metadata": {},
   "outputs": [
    {
     "data": {
      "text/html": [
       "<div>\n",
       "<style scoped>\n",
       "    .dataframe tbody tr th:only-of-type {\n",
       "        vertical-align: middle;\n",
       "    }\n",
       "\n",
       "    .dataframe tbody tr th {\n",
       "        vertical-align: top;\n",
       "    }\n",
       "\n",
       "    .dataframe thead th {\n",
       "        text-align: right;\n",
       "    }\n",
       "</style>\n",
       "<table border=\"1\" class=\"dataframe\">\n",
       "  <thead>\n",
       "    <tr style=\"text-align: right;\">\n",
       "      <th></th>\n",
       "      <th>Year</th>\n",
       "      <th>Month-Day</th>\n",
       "      <th>Daily Change</th>\n",
       "    </tr>\n",
       "  </thead>\n",
       "  <tbody>\n",
       "    <tr>\n",
       "      <th>0</th>\n",
       "      <td>1983</td>\n",
       "      <td>11-21</td>\n",
       "      <td>0.0</td>\n",
       "    </tr>\n",
       "    <tr>\n",
       "      <th>1</th>\n",
       "      <td>1983</td>\n",
       "      <td>11-22</td>\n",
       "      <td>0.0</td>\n",
       "    </tr>\n",
       "    <tr>\n",
       "      <th>2</th>\n",
       "      <td>1983</td>\n",
       "      <td>11-23</td>\n",
       "      <td>0.0</td>\n",
       "    </tr>\n",
       "    <tr>\n",
       "      <th>3</th>\n",
       "      <td>1983</td>\n",
       "      <td>11-25</td>\n",
       "      <td>0.0</td>\n",
       "    </tr>\n",
       "    <tr>\n",
       "      <th>4</th>\n",
       "      <td>1983</td>\n",
       "      <td>11-28</td>\n",
       "      <td>0.0</td>\n",
       "    </tr>\n",
       "  </tbody>\n",
       "</table>\n",
       "</div>"
      ],
      "text/plain": [
       "   Year Month-Day  Daily Change\n",
       "0  1983     11-21           0.0\n",
       "1  1983     11-22           0.0\n",
       "2  1983     11-23           0.0\n",
       "3  1983     11-25           0.0\n",
       "4  1983     11-28           0.0"
      ]
     },
     "execution_count": 5,
     "metadata": {},
     "output_type": "execute_result"
    }
   ],
   "source": [
    "# Split the date column \n",
    "split_date = data[\"Date\"].str.split(\"-\", n = 1, expand = True) \n",
    "\n",
    "# Create a dataframe that displays all this information\n",
    "daily_change_df = pd.DataFrame({\n",
    "    \"Year\": split_date[0],\n",
    "    \"Month-Day\": split_date[1],\n",
    "    \"Daily Change\": daily_change\n",
    "})\n",
    "daily_change_df.head()"
   ]
  },
  {
   "cell_type": "code",
   "execution_count": 6,
   "metadata": {},
   "outputs": [
    {
     "data": {
      "text/plain": [
       "<matplotlib.axes._subplots.AxesSubplot at 0x193840c9320>"
      ]
     },
     "execution_count": 6,
     "metadata": {},
     "output_type": "execute_result"
    },
    {
     "data": {
      "image/png": "[encoded data removed]",
      "text/plain": [
       "<Figure size 432x288 with 1 Axes>"
      ]
     },
     "metadata": {
      "needs_background": "light"
     },
     "output_type": "display_data"
    }
   ],
   "source": [
    "# Find the average daily change for each date\n",
    "date_change_avg = daily_change_df.groupby([\"Month-Day\"]).agg({\"Daily Change\":\"mean\"})[\"Daily Change\"]\n",
    "\n",
    "# Change the series to a dataframe\n",
    "date_change_avg_df = pd.DataFrame({\"Average Daily Change\": date_change_avg})\n",
    "date_change_avg_df.plot.line()"
   ]
  },
  {
   "cell_type": "code",
   "execution_count": 7,
   "metadata": {},
   "outputs": [
    {
     "data": {
      "text/plain": [
       "0.3388461538461537"
      ]
     },
     "execution_count": 7,
     "metadata": {},
     "output_type": "execute_result"
    }
   ],
   "source": [
    "# Find the maximum average daily change\n",
    "max_change = date_change_avg_df[\"Average Daily Change\"].max()\n",
    "max_change"
   ]
  },
  {
   "cell_type": "code",
   "execution_count": 8,
   "metadata": {
    "scrolled": true
   },
   "outputs": [
    {
     "data": {
      "text/html": [
       "<div>\n",
       "<style scoped>\n",
       "    .dataframe tbody tr th:only-of-type {\n",
       "        vertical-align: middle;\n",
       "    }\n",
       "\n",
       "    .dataframe tbody tr th {\n",
       "        vertical-align: top;\n",
       "    }\n",
       "\n",
       "    .dataframe thead th {\n",
       "        text-align: right;\n",
       "    }\n",
       "</style>\n",
       "<table border=\"1\" class=\"dataframe\">\n",
       "  <thead>\n",
       "    <tr style=\"text-align: right;\">\n",
       "      <th></th>\n",
       "      <th>Average Daily Change</th>\n",
       "    </tr>\n",
       "    <tr>\n",
       "      <th>Month-Day</th>\n",
       "      <th></th>\n",
       "    </tr>\n",
       "  </thead>\n",
       "  <tbody>\n",
       "    <tr>\n",
       "      <th>01-31</th>\n",
       "      <td>0.338846</td>\n",
       "    </tr>\n",
       "  </tbody>\n",
       "</table>\n",
       "</div>"
      ],
      "text/plain": [
       "           Average Daily Change\n",
       "Month-Day                      \n",
       "01-31                  0.338846"
      ]
     },
     "execution_count": 8,
     "metadata": {},
     "output_type": "execute_result"
    }
   ],
   "source": [
    "# Find the corresponding date to this maximum average change\n",
    "max_change_date = date_change_avg_df.loc[date_change_avg_df[\"Average Daily Change\"] == max_change]\n",
    "max_change_date"
   ]
  },
  {
   "cell_type": "code",
   "execution_count": 9,
   "metadata": {},
   "outputs": [
    {
     "data": {
      "text/plain": [
       "0.0031424435375081924"
      ]
     },
     "execution_count": 9,
     "metadata": {},
     "output_type": "execute_result"
    }
   ],
   "source": [
    "# Find the maximum average daily change\n",
    "average_change = date_change_avg_df[\"Average Daily Change\"].mean()\n",
    "\n",
    "average_change"
   ]
  },
  {
   "cell_type": "code",
   "execution_count": 10,
   "metadata": {},
   "outputs": [
    {
     "ename": "NameError",
     "evalue": "name 'x_change' is not defined",
     "output_type": "error",
     "traceback": [
      "\u001b[1;31m---------------------------------------------------------------------------\u001b[0m",
      "\u001b[1;31mNameError\u001b[0m                                 Traceback (most recent call last)",
      "\u001b[1;32m<ipython-input-10-4cc5f84d2e6a>\u001b[0m in \u001b[0;36m<module>\u001b[1;34m()\u001b[0m\n\u001b[0;32m      1\u001b[0m \u001b[1;31m# Build a line chart that shows the daily change over time for DIS stock\u001b[0m\u001b[1;33m\u001b[0m\u001b[1;33m\u001b[0m\u001b[0m\n\u001b[1;32m----> 2\u001b[1;33m \u001b[0mplt\u001b[0m\u001b[1;33m.\u001b[0m\u001b[0mplot\u001b[0m\u001b[1;33m(\u001b[0m\u001b[0mx_change\u001b[0m\u001b[1;33m,\u001b[0m \u001b[0my_date\u001b[0m\u001b[1;33m)\u001b[0m\u001b[1;33m\u001b[0m\u001b[0m\n\u001b[0m\u001b[0;32m      3\u001b[0m \u001b[0mplt\u001b[0m\u001b[1;33m.\u001b[0m\u001b[0mshow\u001b[0m\u001b[1;33m(\u001b[0m\u001b[1;33m)\u001b[0m\u001b[1;33m\u001b[0m\u001b[0m\n",
      "\u001b[1;31mNameError\u001b[0m: name 'x_change' is not defined"
     ]
    }
   ],
   "source": [
    "# Build a line chart that shows the daily change over time for DIS stock\n",
    "plt.plot(x_change, y_date)\n",
    "plt.show()"
   ]
  },
  {
   "cell_type": "code",
   "execution_count": null,
   "metadata": {},
   "outputs": [],
   "source": []
  }
 ],
 "metadata": {
  "kernelspec": {
   "display_name": "Python 3",
   "language": "python",
   "name": "python3"
  },
  "language_info": {
   "codemirror_mode": {
    "name": "ipython",
    "version": 3
   },
   "file_extension": ".py",
   "mimetype": "text/x-python",
   "name": "python",
   "nbconvert_exporter": "python",
   "pygments_lexer": "ipython3",
   "version": "3.7.0"
  }
 },
 "nbformat": 4,
 "nbformat_minor": 2
}
